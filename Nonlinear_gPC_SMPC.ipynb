{
  "nbformat": 4,
  "nbformat_minor": 0,
  "metadata": {
    "colab": {
      "name": "Nonlinear_gPC_SMPC.ipynb",
      "provenance": [],
      "collapsed_sections": []
    },
    "kernelspec": {
      "name": "python3",
      "display_name": "Python 3"
    },
    "language_info": {
      "name": "python"
    }
  },
  "cells": [
    {
      "cell_type": "code",
      "metadata": {
        "colab": {
          "base_uri": "https://localhost:8080/"
        },
        "id": "kJCBCvUXWeqZ",
        "outputId": "6406e02a-364a-436b-a900-8c47a62cc781"
      },
      "source": [
        "!pip install chaospy\n",
        "!pip install casadi"
      ],
      "execution_count": 2,
      "outputs": [
        {
          "output_type": "stream",
          "name": "stdout",
          "text": [
            "Requirement already satisfied: chaospy in /usr/local/lib/python3.7/dist-packages (4.3.3)\n",
            "Requirement already satisfied: scipy in /usr/local/lib/python3.7/dist-packages (from chaospy) (1.4.1)\n",
            "Requirement already satisfied: numpy in /usr/local/lib/python3.7/dist-packages (from chaospy) (1.21.2)\n",
            "Requirement already satisfied: numpoly<2.0.0,>=1.1.2 in /usr/local/lib/python3.7/dist-packages (from chaospy) (1.2.3)\n",
            "Collecting casadi\n",
            "  Downloading casadi-3.5.5-cp37-none-manylinux1_x86_64.whl (34.2 MB)\n",
            "\u001b[K     |████████████████████████████████| 34.2 MB 17 kB/s \n",
            "\u001b[?25hInstalling collected packages: casadi\n",
            "Successfully installed casadi-3.5.5\n"
          ]
        }
      ]
    },
    {
      "cell_type": "code",
      "metadata": {
        "id": "TBov-kt1WNAX"
      },
      "source": [
        "import chaospy\n",
        "import numpy as np\n",
        "import casadi as ca\n",
        "from matplotlib import pyplot"
      ],
      "execution_count": 49,
      "outputs": []
    },
    {
      "cell_type": "code",
      "metadata": {
        "id": "twZyvCQDWd3g"
      },
      "source": [
        "import scipy.integrate as integrate\n"
      ],
      "execution_count": 48,
      "outputs": []
    },
    {
      "cell_type": "markdown",
      "metadata": {
        "id": "14NIkbr-qmxS"
      },
      "source": [
        "Exploring gPC\n",
        "\n",
        "example system: $\\frac{d x(t)}{d t}=-\\theta x(t)+w(t), x(0)=1$, where $\\theta \\sim \\mathcal{N}(0,1)$ and $w(t) \\sim \\mathcal{N}(0,1)$\n",
        "\n",
        "From the paper \"An efficient method for stochastic optimal control with joint chance constraints for nonlinear systems\" "
      ]
    },
    {
      "cell_type": "code",
      "metadata": {
        "id": "zkkDUxniF4re"
      },
      "source": [
        "coordinates = np.linspace(0, 1, 1000)"
      ],
      "execution_count": 115,
      "outputs": []
    },
    {
      "cell_type": "code",
      "metadata": {
        "id": "VZjuxvs70Zk2"
      },
      "source": [
        "def model_mu(theta):\n",
        "    return np.e**(-theta * coordinates)"
      ],
      "execution_count": 116,
      "outputs": []
    },
    {
      "cell_type": "code",
      "metadata": {
        "id": "k3Jzjd7Z0vmm"
      },
      "source": [
        "def model_V(theta):\n",
        "    return (1 - np.e**(-2 * theta * coordinates))/(2*theta)"
      ],
      "execution_count": 117,
      "outputs": []
    },
    {
      "cell_type": "code",
      "metadata": {
        "id": "4qjB8aYcm3DI"
      },
      "source": [
        "# mu_t = lambda t: np.exp(t**2/2)\n",
        "# sigma_int = lambda t,theta: (1-np.exp(-2*theta*t)/(2*theta))*np.exp(-theta**2/2)\n",
        "\n",
        "# result = integrate.quad(sigma_int(2), 0, 4.5) "
      ],
      "execution_count": 118,
      "outputs": []
    },
    {
      "cell_type": "code",
      "metadata": {
        "id": "vx2XMmfFuZm2"
      },
      "source": [
        "# result = integrate.quad(lambda x:x**2, 0, 1)"
      ],
      "execution_count": 119,
      "outputs": []
    },
    {
      "cell_type": "markdown",
      "metadata": {
        "id": "es9g5hshz8Yu"
      },
      "source": [
        "Pseudo-spectral projection: [reference](https://chaospy.readthedocs.io/en/master/user_guide/main_usage/pseudo_spectral_projection.html)"
      ]
    },
    {
      "cell_type": "code",
      "metadata": {
        "id": "hCb4XRUA1-Vy"
      },
      "source": [
        "normal = chaospy.Normal(0, 1)"
      ],
      "execution_count": 132,
      "outputs": []
    },
    {
      "cell_type": "code",
      "metadata": {
        "id": "SpunOdjw2J2z"
      },
      "source": [
        "gauss_quads = [\n",
        "    chaospy.generate_quadrature(order, normal, rule=\"gaussian\")\n",
        "    for order in range(1, 6)\n",
        "]"
      ],
      "execution_count": 158,
      "outputs": []
    },
    {
      "cell_type": "code",
      "metadata": {
        "id": "SFcPRKOWFA4k"
      },
      "source": [
        "gauss_evals = [\n",
        "    np.array([model_mu(node) for node in nodes.T])\n",
        "    for nodes, weights in gauss_quads\n",
        "]"
      ],
      "execution_count": 159,
      "outputs": []
    },
    {
      "cell_type": "code",
      "metadata": {
        "colab": {
          "base_uri": "https://localhost:8080/"
        },
        "id": "XSuUOZ9lLX64",
        "outputId": "9680f241-402e-4c63-e2d6-934c832ac16e"
      },
      "source": [
        "nodes"
      ],
      "execution_count": 160,
      "outputs": [
        {
          "output_type": "execute_result",
          "data": {
            "text/plain": [
              "array([[-3.32425743, -1.88917588, -0.61670659,  0.61670659,  1.88917588,\n",
              "         3.32425743]])"
            ]
          },
          "metadata": {},
          "execution_count": 160
        }
      ]
    },
    {
      "cell_type": "code",
      "metadata": {
        "colab": {
          "base_uri": "https://localhost:8080/",
          "height": 281
        },
        "id": "QbiHcv6rFEVH",
        "outputId": "f97ef95e-bf39-4aca-b3c1-b9c3b9258be6"
      },
      "source": [
        "pyplot.subplot(111)\n",
        "pyplot.plot(coordinates, gauss_evals[4].T, alpha=0.3)\n",
        "pyplot.title(\"Gaussian\")\n",
        "\n",
        "pyplot.show()"
      ],
      "execution_count": 168,
      "outputs": [
        {
          "output_type": "display_data",
          "data": {
            "image/png": "[encoded data removed]",
            "text/plain": [
              "<Figure size 864x288 with 1 Axes>"
            ]
          },
          "metadata": {
            "needs_background": "light"
          }
        }
      ]
    },
    {
      "cell_type": "code",
      "metadata": {
        "colab": {
          "base_uri": "https://localhost:8080/"
        },
        "id": "U1bdPrOG2V0W",
        "outputId": "6ab3e70b-9f7f-4941-9ce0-3e22d5c73dcc"
      },
      "source": [
        "expansions = [chaospy.generate_expansion(order, normal)\n",
        "              for order in range(1, 10)]\n",
        "expansions[0].round(10)"
      ],
      "execution_count": 169,
      "outputs": [
        {
          "output_type": "execute_result",
          "data": {
            "text/plain": [
              "polynomial([1.0, q0])"
            ]
          },
          "metadata": {},
          "execution_count": 169
        }
      ]
    },
    {
      "cell_type": "code",
      "metadata": {
        "id": "u20frsSy3Zrt"
      },
      "source": [
        "coordinates = np.linspace(0, 1, 1000)"
      ],
      "execution_count": 170,
      "outputs": []
    },
    {
      "cell_type": "code",
      "metadata": {
        "id": "zDrWCiLQ3Ug5"
      },
      "source": [
        ""
      ],
      "execution_count": 170,
      "outputs": []
    },
    {
      "cell_type": "code",
      "metadata": {
        "id": "567FsGrl2i5m"
      },
      "source": [
        "gauss_model_approx = [\n",
        "    chaospy.fit_quadrature(expansion, nodes, weights, evals)\n",
        "    for expansion, (nodes, weights), evals in zip(expansions, gauss_quads, gauss_evals)\n",
        "]"
      ],
      "execution_count": 171,
      "outputs": []
    },
    {
      "cell_type": "code",
      "metadata": {
        "colab": {
          "base_uri": "https://localhost:8080/"
        },
        "id": "vnjIdLFPOLYm",
        "outputId": "6d427456-1909-4dc2-d87e-98278042e6d7"
      },
      "source": [
        "gauss_model_approx[0].shape"
      ],
      "execution_count": 186,
      "outputs": [
        {
          "output_type": "execute_result",
          "data": {
            "text/plain": [
              "(1000,)"
            ]
          },
          "metadata": {},
          "execution_count": 186
        }
      ]
    },
    {
      "cell_type": "code",
      "metadata": {
        "colab": {
          "base_uri": "https://localhost:8080/",
          "height": 281
        },
        "id": "fg5S9NVJGgsH",
        "outputId": "42866c79-cfcb-4386-f7cf-561902656ecc"
      },
      "source": [
        "model_approx = gauss_model_approx[4]\n",
        "nodes, _ = gauss_quads[4]\n",
        "evals = model_approx(*nodes)\n",
        "\n",
        "pyplot.subplot(111)\n",
        "pyplot.plot(coordinates, evals, alpha=0.3)\n",
        "pyplot.title(\"Gaussian\")\n",
        "\n",
        "pyplot.show()"
      ],
      "execution_count": 172,
      "outputs": [
        {
          "output_type": "display_data",
          "data": {
            "image/png": "[encoded data removed]",
            "text/plain": [
              "<Figure size 864x288 with 1 Axes>"
            ]
          },
          "metadata": {
            "needs_background": "light"
          }
        }
      ]
    },
    {
      "cell_type": "code",
      "metadata": {
        "id": "_QYwtUnS3DAn"
      },
      "source": [
        "expected = chaospy.E(gauss_model_approx[-2], normal)\n",
        "std = chaospy.Std(gauss_model_approx[-2], normal)"
      ],
      "execution_count": 173,
      "outputs": []
    },
    {
      "cell_type": "code",
      "metadata": {
        "colab": {
          "base_uri": "https://localhost:8080/"
        },
        "id": "uSot9DSK6uwG",
        "outputId": "f188b0b3-f99c-47bb-9e55-8016a26ae6bc"
      },
      "source": [
        "expected[:4].round(4), std[:4].round(4)"
      ],
      "execution_count": 174,
      "outputs": [
        {
          "output_type": "execute_result",
          "data": {
            "text/plain": [
              "(array([1., 1., 1., 1.]), array([0.   , 0.001, 0.002, 0.003]))"
            ]
          },
          "metadata": {},
          "execution_count": 174
        }
      ]
    },
    {
      "cell_type": "code",
      "metadata": {
        "colab": {
          "base_uri": "https://localhost:8080/",
          "height": 279
        },
        "id": "D5I_Jc9j6zYs",
        "outputId": "d399f2ee-33bc-4b97-a4f2-50ad4375cfa1"
      },
      "source": [
        "pyplot.rc(\"figure\", figsize=[6, 4])\n",
        "\n",
        "pyplot.xlabel(\"coordinates\")\n",
        "pyplot.ylabel(\"model approximation\")\n",
        "pyplot.fill_between(\n",
        "    coordinates, expected-2*std, expected+2*std, alpha=0.3)\n",
        "pyplot.plot(coordinates, expected)\n",
        "\n",
        "pyplot.show()"
      ],
      "execution_count": 175,
      "outputs": [
        {
          "output_type": "display_data",
          "data": {
            "image/png": "[encoded data removed]",
            "text/plain": [
              "<Figure size 432x288 with 1 Axes>"
            ]
          },
          "metadata": {
            "needs_background": "light"
          }
        }
      ]
    },
    {
      "cell_type": "code",
      "metadata": {
        "id": "Swmdc3ioL4L0"
      },
      "source": [
        "_t = coordinates\n",
        "\n",
        "true_mean = np.hstack([\n",
        "    np.e**(_t**2/2)])"
      ],
      "execution_count": 176,
      "outputs": []
    },
    {
      "cell_type": "code",
      "metadata": {
        "id": "_7e68jYbLygB"
      },
      "source": [
        "def error_in_mean(predicted_mean, true_mean=true_mean):\n",
        "    return np.mean(np.abs(predicted_mean-true_mean))"
      ],
      "execution_count": 177,
      "outputs": []
    },
    {
      "cell_type": "code",
      "metadata": {
        "colab": {
          "base_uri": "https://localhost:8080/"
        },
        "id": "3S-r5wb8MQaJ",
        "outputId": "8f72e97e-8e70-4d82-d73f-870814c30a72"
      },
      "source": [
        "error_in_mean(expected)"
      ],
      "execution_count": 178,
      "outputs": [
        {
          "output_type": "execute_result",
          "data": {
            "text/plain": [
              "3.6874133500355288e-06"
            ]
          },
          "metadata": {},
          "execution_count": 178
        }
      ]
    },
    {
      "cell_type": "code",
      "metadata": {
        "id": "vLRA6qvDMSNe"
      },
      "source": [
        "gauss_sizes = [len(weights) for _, weights in gauss_quads]\n",
        "eps_gauss_mean = [\n",
        "    error_in_mean(chaospy.E(model, normal))\n",
        "    for model in gauss_model_approx\n",
        "]"
      ],
      "execution_count": 179,
      "outputs": []
    },
    {
      "cell_type": "code",
      "metadata": {
        "colab": {
          "base_uri": "https://localhost:8080/",
          "height": 301
        },
        "id": "btzEc4FhMZYj",
        "outputId": "272871e1-3a11-46c6-b28a-41df8c918f5b"
      },
      "source": [
        "pyplot.rc(\"figure\", figsize=[12, 4])\n",
        "\n",
        "pyplot.subplot(111)\n",
        "pyplot.title(\"Error in mean\")\n",
        "pyplot.loglog(gauss_sizes, eps_gauss_mean, \"o-\", label=\"Gaussian\")\n",
        "pyplot.legend()"
      ],
      "execution_count": 180,
      "outputs": [
        {
          "output_type": "execute_result",
          "data": {
            "text/plain": [
              "<matplotlib.legend.Legend at 0x7fb9b30b0c10>"
            ]
          },
          "metadata": {},
          "execution_count": 180
        },
        {
          "output_type": "display_data",
          "data": {
            "image/png": "[encoded data removed]",
            "text/plain": [
              "<Figure size 864x288 with 1 Axes>"
            ]
          },
          "metadata": {
            "needs_background": "light"
          }
        }
      ]
    },
    {
      "cell_type": "markdown",
      "metadata": {
        "id": "1onyS_GmOl_w"
      },
      "source": [
        "Point collocation: [reference](https://chaospy.readthedocs.io/en/master/user_guide/main_usage/point_collocation.html)"
      ]
    },
    {
      "cell_type": "code",
      "metadata": {
        "id": "NweCNdiMMeBS"
      },
      "source": [
        "gauss_nodes = [nodes for nodes, _ in gauss_quads]"
      ],
      "execution_count": 187,
      "outputs": []
    },
    {
      "cell_type": "code",
      "metadata": {
        "id": "UTolgyeKO2JH"
      },
      "source": [
        "sobol_samples = normal.sample(10000, rule=\"sobol\")"
      ],
      "execution_count": 189,
      "outputs": []
    },
    {
      "cell_type": "code",
      "metadata": {
        "id": "eK5Kn7KSO7He"
      },
      "source": [
        "sobol_nodes = [sobol_samples[:nodes.shape[1]] for nodes in gauss_nodes]"
      ],
      "execution_count": 193,
      "outputs": []
    },
    {
      "cell_type": "code",
      "metadata": {
        "id": "TD891Q7mQByN"
      },
      "source": [
        "sobol_evals = [\n",
        "    np.array([model_mu(node) for node in nodes.T])\n",
        "    for nodes in sobol_nodes\n",
        "]"
      ],
      "execution_count": 204,
      "outputs": []
    },
    {
      "cell_type": "code",
      "metadata": {
        "colab": {
          "base_uri": "https://localhost:8080/",
          "height": 298
        },
        "id": "xhNqn8gHQGtt",
        "outputId": "90a9615a-ffd7-4f2e-b941-6d87c5de5258"
      },
      "source": [
        "pyplot.subplot(111)\n",
        "pyplot.plot(coordinates, sobol_evals[4].T, alpha=0.3)\n",
        "pyplot.title(\"Sobol evaluations\")\n"
      ],
      "execution_count": 205,
      "outputs": [
        {
          "output_type": "execute_result",
          "data": {
            "text/plain": [
              "Text(0.5, 1.0, 'Sobol evaluations')"
            ]
          },
          "metadata": {},
          "execution_count": 205
        },
        {
          "output_type": "display_data",
          "data": {
            "image/png": "[encoded data removed]",
            "text/plain": [
              "<Figure size 432x288 with 1 Axes>"
            ]
          },
          "metadata": {
            "needs_background": "light"
          }
        }
      ]
    },
    {
      "cell_type": "code",
      "metadata": {
        "colab": {
          "base_uri": "https://localhost:8080/"
        },
        "id": "AEj3UiN0PPVj",
        "outputId": "82b69aaf-abf5-4a02-870f-201c90a50c32"
      },
      "source": [
        "expansions = [chaospy.generate_expansion(order, normal)\n",
        "              for order in range(1, 10)]\n",
        "expansions[0].round(10)"
      ],
      "execution_count": 195,
      "outputs": [
        {
          "output_type": "execute_result",
          "data": {
            "text/plain": [
              "polynomial([1.0, q0])"
            ]
          },
          "metadata": {},
          "execution_count": 195
        }
      ]
    },
    {
      "cell_type": "code",
      "metadata": {
        "id": "urVfY5e5PX0w"
      },
      "source": [
        "gauss_model_approx = [\n",
        "    chaospy.fit_regression(expansion, samples, evals)\n",
        "    for expansion, samples, evals in zip(expansions, gauss_nodes, gauss_evals)\n",
        "]"
      ],
      "execution_count": 196,
      "outputs": []
    },
    {
      "cell_type": "code",
      "metadata": {
        "id": "sXuYe43zQNpF"
      },
      "source": [
        "sobol_model_approx = [\n",
        "    chaospy.fit_regression(expansion, samples, evals)\n",
        "    for expansion, samples, evals in zip(expansions, sobol_nodes, sobol_evals)\n",
        "]"
      ],
      "execution_count": 206,
      "outputs": []
    },
    {
      "cell_type": "code",
      "metadata": {
        "colab": {
          "base_uri": "https://localhost:8080/",
          "height": 281
        },
        "id": "SXV1_IS1Pa6Y",
        "outputId": "c2b681a4-aa7b-43d6-b11f-29e153b5e14c"
      },
      "source": [
        "pyplot.subplot(121)\n",
        "model_approx = gauss_model_approx[4]\n",
        "evals = model_approx(*gauss_nodes[1])\n",
        "pyplot.plot(coordinates, evals, alpha=0.3)\n",
        "pyplot.title(\"Gaussian approximation\")\n",
        "\n",
        "pyplot.subplot(122)\n",
        "model_approx = sobol_model_approx[1]\n",
        "evals = model_approx(*sobol_nodes[1])\n",
        "pyplot.plot(coordinates, evals, alpha=0.3)\n",
        "pyplot.title(\"Sobol approximation\")\n",
        "\n",
        "pyplot.show()"
      ],
      "execution_count": 207,
      "outputs": [
        {
          "output_type": "display_data",
          "data": {
            "image/png": "[encoded data removed]",
            "text/plain": [
              "<Figure size 432x288 with 2 Axes>"
            ]
          },
          "metadata": {
            "needs_background": "light"
          }
        }
      ]
    },
    {
      "cell_type": "code",
      "metadata": {
        "id": "fyuigDljPdHU"
      },
      "source": [
        "expected = chaospy.E(gauss_model_approx[-2], normal)"
      ],
      "execution_count": 199,
      "outputs": []
    },
    {
      "cell_type": "code",
      "metadata": {
        "colab": {
          "base_uri": "https://localhost:8080/",
          "height": 279
        },
        "id": "IQlUUqIsPfVY",
        "outputId": "0fdbc0ee-8795-41cd-916a-27f723bd3ebc"
      },
      "source": [
        "pyplot.rc(\"figure\", figsize=[6, 4])\n",
        "\n",
        "pyplot.xlabel(\"coordinates\")\n",
        "pyplot.ylabel(\"model approximation\")\n",
        "pyplot.fill_between(\n",
        "    coordinates, expected-2*std, expected+2*std, alpha=0.3)\n",
        "pyplot.plot(coordinates, expected)\n",
        "\n",
        "pyplot.show()"
      ],
      "execution_count": 200,
      "outputs": [
        {
          "output_type": "display_data",
          "data": {
            "image/png": "[encoded data removed]",
            "text/plain": [
              "<Figure size 432x288 with 1 Axes>"
            ]
          },
          "metadata": {
            "needs_background": "light"
          }
        }
      ]
    },
    {
      "cell_type": "code",
      "metadata": {
        "id": "zsBRMF5NPmu7"
      },
      "source": [
        "eps_sobol_mean = [\n",
        "    error_in_mean(chaospy.E(model, normal))\n",
        "    for model in sobol_model_approx\n",
        "]"
      ],
      "execution_count": 208,
      "outputs": []
    },
    {
      "cell_type": "code",
      "metadata": {
        "colab": {
          "base_uri": "https://localhost:8080/",
          "height": 301
        },
        "id": "yZYLMifPQkvc",
        "outputId": "7a047b22-13d7-4547-90e0-8302a2f2cbf8"
      },
      "source": [
        "sizes = [nodes.shape[1] for nodes in gauss_nodes]\n",
        "\n",
        "pyplot.rc(\"figure\", figsize=[12, 4])\n",
        "\n",
        "pyplot.subplot(121)\n",
        "pyplot.title(\"Error in mean\")\n",
        "pyplot.loglog(sizes, eps_gauss_mean, \"-\", label=\"Gaussian\")\n",
        "pyplot.loglog(sizes, eps_sobol_mean, \"--\", label=\"Sobol\")\n",
        "pyplot.legend()"
      ],
      "execution_count": 211,
      "outputs": [
        {
          "output_type": "execute_result",
          "data": {
            "text/plain": [
              "<matplotlib.legend.Legend at 0x7fb9aeb35650>"
            ]
          },
          "metadata": {},
          "execution_count": 211
        },
        {
          "output_type": "display_data",
          "data": {
            "image/png": "[encoded data removed]",
            "text/plain": [
              "<Figure size 864x288 with 1 Axes>"
            ]
          },
          "metadata": {
            "needs_background": "light"
          }
        }
      ]
    }
  ]
}
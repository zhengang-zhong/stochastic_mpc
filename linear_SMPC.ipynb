{
 "cells": [
  {
   "cell_type": "code",
   "execution_count": 33,
   "metadata": {
    "id": "XfJCAjmGzuSF"
   },
   "outputs": [],
   "source": [
    "import numpy as np\n",
    "import casadi as ca\n",
    "import chaospy\n",
    "import scipy\n",
    "import matplotlib.pyplot as plt"
   ]
  },
  {
   "cell_type": "code",
   "execution_count": 2,
   "metadata": {
    "id": "U1lEeVzDGb4j"
   },
   "outputs": [],
   "source": [
    "normal = chaospy.Normal(mu=0, sigma=1)"
   ]
  },
  {
   "cell_type": "code",
   "execution_count": 3,
   "metadata": {
    "colab": {
     "base_uri": "https://localhost:8080/",
     "height": 265
    },
    "id": "NniqSRfkzx7C",
    "outputId": "7bf00b3e-201b-410e-d942-73bce72ead7c"
   },
   "outputs": [
    {
     "data": {
      "image/png": "[encoded data removed]",
      "text/plain": [
       "<Figure size 432x288 with 1 Axes>"
      ]
     },
     "metadata": {
      "needs_background": "light"
     },
     "output_type": "display_data"
    }
   ],
   "source": [
    "normal_trunc2 = chaospy.Trunc(normal, lower=-0.5, upper=0.5)\n",
    "q_loc = np.linspace(-2, 2, 200)\n",
    "pyplot.plot(q_loc, normal_trunc2.pdf(q_loc))\n",
    "pyplot.show()"
   ]
  },
  {
   "cell_type": "code",
   "execution_count": 4,
   "metadata": {
    "id": "bHndPsbHH8ws"
   },
   "outputs": [],
   "source": [
    "normal = chaospy.Normal(mu=0, sigma=0.43)\n",
    "dis1 = chaospy.Trunc(normal, lower=-0.5, upper=0.5)\n",
    "dis2 = chaospy.Trunc(normal, lower=-0.5, upper=0.5)\n",
    "\n",
    "joint = chaospy.J(dis1, dis2)"
   ]
  },
  {
   "cell_type": "code",
   "execution_count": 5,
   "metadata": {
    "colab": {
     "base_uri": "https://localhost:8080/"
    },
    "id": "n7es7M7CE1Ou",
    "outputId": "7fe210ad-46d8-4c02-e767-ee8144f994ea"
   },
   "outputs": [
    {
     "data": {
      "text/plain": [
       "array([[-0.17583247],\n",
       "       [ 0.32460843]])"
      ]
     },
     "execution_count": 5,
     "metadata": {},
     "output_type": "execute_result"
    }
   ],
   "source": [
    "dis1.sample(2).reshape(-1,1)"
   ]
  },
  {
   "cell_type": "code",
   "execution_count": 6,
   "metadata": {
    "colab": {
     "base_uri": "https://localhost:8080/"
    },
    "id": "gLb9cElRJkIw",
    "outputId": "4e4567a9-8d43-4f52-81d0-dba386aca87a"
   },
   "outputs": [
    {
     "data": {
      "text/plain": [
       "0.006944444444444444"
      ]
     },
     "execution_count": 6,
     "metadata": {},
     "output_type": "execute_result"
    }
   ],
   "source": [
    "1/12**2"
   ]
  },
  {
   "cell_type": "code",
   "execution_count": 7,
   "metadata": {
    "id": "0VK0hyvgHwVb"
   },
   "outputs": [],
   "source": [
    "cov_w = chaospy.Cov(joint)"
   ]
  },
  {
   "cell_type": "code",
   "execution_count": 8,
   "metadata": {
    "id": "FdStIcaZEjTs"
   },
   "outputs": [],
   "source": [
    "# joint.sample(size=1,rule = 'random')"
   ]
  },
  {
   "cell_type": "code",
   "execution_count": 9,
   "metadata": {
    "id": "6zghYPJaKcWN"
   },
   "outputs": [],
   "source": [
    "def dlqr(A,B,Q,R):\n",
    "    \"\"\"\n",
    "    Solve the discrete time lqr controller.\n",
    "    x[k+1] = A x[k] + B u[k]\n",
    "    cost = sum x[k].T*Q*x[k] + u[k].T*R*u[k]\n",
    "    \"\"\"\n",
    "    # first, solve the ricatti equation\n",
    "    P = np.matrix(scipy.linalg.solve_discrete_are(A, B, Q, R))\n",
    "    # compute the LQR gain\n",
    "    K = np.matrix(scipy.linalg.inv(B.T*P*B+R)*(B.T*P*A))\n",
    "    return -K"
   ]
  },
  {
   "cell_type": "code",
   "execution_count": 10,
   "metadata": {
    "id": "UnVT3m8P57Fv"
   },
   "outputs": [],
   "source": [
    "# K"
   ]
  },
  {
   "cell_type": "code",
   "execution_count": 11,
   "metadata": {
    "id": "M94PGvxjKXdO"
   },
   "outputs": [],
   "source": [
    "N_pred = 6\n",
    "nu = 1\n",
    "nx = 2\n",
    "\n",
    "A = np.array([[1.6,1.1],[-0.7,1.2]])\n",
    "B = np.array([[1],[1]])\n",
    "D = np.eye(2)\n",
    "E_ww = 1/12**2 * np.eye(2)\n",
    "Q = np.eye(2)\n",
    "R = np.eye(1)\n",
    "\n",
    "p = 0.8\n",
    "\n",
    "F = np.array([[1, 0.136]])\n",
    "G = np.zeros([1, nu])\n",
    "# E = np.hstack([np.eye(nu), np.zeros(nu, N_pred - 2)])\n",
    "K = np.array(dlqr(A,B,Q,R))\n",
    "\n",
    "Phi = A + B @ K\n",
    "\n",
    "F_tilde = F + G @ K\n",
    "\n",
    "\n",
    "\n",
    "\n",
    "E_temp1 = np.eye(nu)\n",
    "E_temp2 = np.zeros([nu, (N_pred-2) * nu])\n",
    "E = np.hstack([E_temp1,E_temp2])\n",
    "\n",
    "M_temp1 = np.eye(nu * (N_pred - 2))\n",
    "M_temp2 = np.vstack([M_temp1, np.zeros([nu, M_temp1.shape[1]])])\n",
    "\n",
    "M = np.hstack([np.zeros([M_temp2.shape[0],nu]),M_temp2])\n",
    "\n",
    "F_bar = np.hstack([F_tilde, G@E])\n",
    "Psi = np.vstack([np.hstack([Phi, B @ E]), np.hstack([np.zeros([np.shape(M)[0],np.shape(Phi)[1]]), M])])"
   ]
  },
  {
   "cell_type": "code",
   "execution_count": 12,
   "metadata": {
    "colab": {
     "base_uri": "https://localhost:8080/"
    },
    "id": "JV_7SEz8CFVr",
    "outputId": "f0eee5a8-85c7-4704-ebcd-4a1e16d18493"
   },
   "outputs": [
    {
     "data": {
      "text/plain": [
       "(5, 5)"
      ]
     },
     "execution_count": 12,
     "metadata": {},
     "output_type": "execute_result"
    }
   ],
   "source": [
    "M.shape"
   ]
  },
  {
   "cell_type": "markdown",
   "metadata": {
    "id": "RN0oGLiZxPjW"
   },
   "source": [
    "System"
   ]
  },
  {
   "cell_type": "code",
   "execution_count": 13,
   "metadata": {
    "id": "ku_eM8hTKanW"
   },
   "outputs": [],
   "source": [
    "A_DM = ca.DM(A)\n",
    "B_DM = ca.DM(B)\n",
    "D_DM = ca.DM(D)\n",
    "E_ww_DM = ca.DM(E_ww)\n",
    "Q_DM = ca.DM(Q)\n",
    "R_DM = ca.DM(R)\n",
    "\n",
    "Phi_DM = ca.DM(Phi)"
   ]
  },
  {
   "cell_type": "markdown",
   "metadata": {
    "id": "NIjuH-6hxRtk"
   },
   "source": [
    "Offline-calculation"
   ]
  },
  {
   "cell_type": "markdown",
   "metadata": {
    "id": "BWK5fULJxobf"
   },
   "source": [
    "Beta"
   ]
  },
  {
   "cell_type": "markdown",
   "metadata": {
    "id": "YzjHvtmpy4nl"
   },
   "source": [
    "gamma"
   ]
  },
  {
   "cell_type": "code",
   "execution_count": 14,
   "metadata": {
    "id": "RKSjrjRXKhZM"
   },
   "outputs": [],
   "source": [
    "N_gamma = 10\n",
    "\n",
    "gamma_list = []\n",
    "\n",
    "kappa = np.sqrt(p/(1-p))\n",
    "\n",
    "g = F.T\n",
    "\n",
    "\n",
    "P1 = D @ cov_w @ D.T\n",
    "Pi = P1\n",
    "\n",
    "for i in range(N_gamma):\n",
    "    gamma_i = kappa * np.sqrt(g.T @ Pi @ g)\n",
    "    gamma_list += [gamma_i]\n",
    "    \n",
    "    Pi_p1 = Phi @ Pi @ Phi.T + D @ cov_w @ D.T\n",
    "    Pi = Pi_p1\n"
   ]
  },
  {
   "cell_type": "code",
   "execution_count": 15,
   "metadata": {
    "colab": {
     "base_uri": "https://localhost:8080/"
    },
    "id": "BCOistE9MwGU",
    "outputId": "c650f385-865d-480d-b49a-2441b97cce90"
   },
   "outputs": [
    {
     "data": {
      "text/plain": [
       "[array([[0.53152455]]),\n",
       " array([[0.55929024]]),\n",
       " array([[0.56016487]]),\n",
       " array([[0.56027406]]),\n",
       " array([[0.56040883]]),\n",
       " array([[0.5604517]]),\n",
       " array([[0.56045857]]),\n",
       " array([[0.56045908]]),\n",
       " array([[0.56045908]]),\n",
       " array([[0.56045909]])]"
      ]
     },
     "execution_count": 15,
     "metadata": {},
     "output_type": "execute_result"
    }
   ],
   "source": [
    "gamma_list"
   ]
  },
  {
   "cell_type": "code",
   "execution_count": 16,
   "metadata": {
    "colab": {
     "base_uri": "https://localhost:8080/"
    },
    "id": "whmKXa85zjvQ",
    "outputId": "8eb98610-65e1-4b2c-c316-84b07bb6b5ef"
   },
   "outputs": [
    {
     "name": "stdout",
     "output_type": "stream",
     "text": [
      "\n",
      "******************************************************************************\n",
      "This program contains Ipopt, a library for large-scale nonlinear optimization.\n",
      " Ipopt is released as open source code under the Eclipse Public License (EPL).\n",
      "         For more information visit https://github.com/coin-or/Ipopt\n",
      "******************************************************************************\n",
      "\n"
     ]
    }
   ],
   "source": [
    "solver_opt = {}\n",
    "solver_opt['print_time'] = False\n",
    "solver_opt['ipopt'] = {\n",
    "    'max_iter': 300,\n",
    "    'print_level': 1,\n",
    "    'acceptable_tol': 1e-6,\n",
    "    'acceptable_obj_change_tol': 1e-6}\n",
    "\n",
    "i_max = 10\n",
    "\n",
    "w_sym = ca.SX.sym(\"w\",2)\n",
    "a_list = []\n",
    "\n",
    "nl = {}\n",
    "\n",
    "lbx = [-0.5] * 2\n",
    "ubx = [0.5] * 2\n",
    "\n",
    "nl['lbx'] = lbx\n",
    "nl['ubx'] = ubx\n",
    "\n",
    "for i in range(1,i_max):\n",
    "    obj = - F_tilde @ np.linalg.matrix_power(Phi, i) @ D @ w_sym\n",
    "\n",
    "    nlp_prob = {\n",
    "    'f': obj,\n",
    "    'x': w_sym\n",
    "    }\n",
    "\n",
    "    solver = ca.nlpsol(\"solver\", \"ipopt\", nlp_prob, solver_opt)\n",
    "\n",
    "    sol = solver(**nl)\n",
    "\n",
    "\n",
    "    a_list += [-sol['f'].full()]\n",
    "\n",
    "\n",
    "    \n"
   ]
  },
  {
   "cell_type": "code",
   "execution_count": 17,
   "metadata": {
    "colab": {
     "base_uri": "https://localhost:8080/"
    },
    "id": "psNzKsdy4CIb",
    "outputId": "68f3aa11-af76-4864-8201-f9acb8c7f193"
   },
   "outputs": [
    {
     "data": {
      "text/plain": [
       "[array([[0.19778557]]),\n",
       " array([[0.04023669]]),\n",
       " array([[0.01341676]]),\n",
       " array([[0.01168454]]),\n",
       " array([[0.00716333]]),\n",
       " array([[0.00303603]]),\n",
       " array([[0.00089288]]),\n",
       " array([[9.8153436e-05]]),\n",
       " array([[0.00011195]])]"
      ]
     },
     "execution_count": 17,
     "metadata": {},
     "output_type": "execute_result"
    }
   ],
   "source": [
    "a_list"
   ]
  },
  {
   "cell_type": "code",
   "execution_count": 18,
   "metadata": {
    "id": "_j8RZrj34U4g"
   },
   "outputs": [],
   "source": [
    "beta_list = []\n",
    "gamma_1 = gamma_list[0]\n",
    "beta_temp = gamma_1\n",
    "for i in range(1,i_max):\n",
    "    beta_temp = beta_temp + a_list[i-1]\n",
    "    beta_list += [beta_temp]"
   ]
  },
  {
   "cell_type": "code",
   "execution_count": 19,
   "metadata": {
    "colab": {
     "base_uri": "https://localhost:8080/"
    },
    "id": "VGbP3cdJ8NN1",
    "outputId": "99b4a565-d814-4c26-c3ba-041ea4ba0e6a"
   },
   "outputs": [
    {
     "data": {
      "text/plain": [
       "[array([[0.72931012]]),\n",
       " array([[0.7695468]]),\n",
       " array([[0.78296356]]),\n",
       " array([[0.7946481]]),\n",
       " array([[0.80181143]]),\n",
       " array([[0.80484746]]),\n",
       " array([[0.80574034]]),\n",
       " array([[0.80583849]]),\n",
       " array([[0.80595044]])]"
      ]
     },
     "execution_count": 19,
     "metadata": {},
     "output_type": "execute_result"
    }
   ],
   "source": [
    "beta_list"
   ]
  },
  {
   "cell_type": "markdown",
   "metadata": {
    "id": "olc9kz6k8zVj"
   },
   "source": [
    "Objective function\n",
    "\n",
    "$$\n",
    "J\\left(x_{k}, \\mathbf{c}_{k}\\right)=\\sum_{i=0}^{\\infty} \\mathbb{E}_{k}\\left(\\left\\|x_{i \\mid k}\\right\\|_{Q}^{2}+\\left\\|u_{i \\mid k}\\right\\|_{R}^{2}-l_{s s}\\right)=x_{k}^{T} W_{x} x_{k}+\\mathbf{c}_{k}^{T} W_{c} \\mathbf{c}_{k}+w_{1}\n",
    "$$"
   ]
  },
  {
   "cell_type": "markdown",
   "metadata": {
    "id": "sdWdQi2AWiGr"
   },
   "source": [
    "$$\n",
    "W_{x}-\\mathbb{E}\\left(\\left(A_{k}+B_{k} K\\right)^{T} W_{x}\\left(A_{k}+B_{k} K\\right)\\right)=Q+K^{T} R K\n",
    "$$"
   ]
  },
  {
   "cell_type": "markdown",
   "metadata": {
    "id": "eizsnoLwWn3E"
   },
   "source": [
    "$$\n",
    "A^{H} X A-X-\\left(A^{H} X B\\right)\\left(R+B^{H} X B\\right)^{-1}\\left(B^{H} X A\\right)+Q=0\n",
    "$$"
   ]
  },
  {
   "cell_type": "code",
   "execution_count": 20,
   "metadata": {
    "id": "NAtJgvf2MxSn"
   },
   "outputs": [],
   "source": [
    "Wx = scipy.linalg.solve_discrete_are(A+B@K, np.zeros([2,2]), Q + K.T @ R @ K, np.diag([0.01,0.01]))"
   ]
  },
  {
   "cell_type": "code",
   "execution_count": 21,
   "metadata": {
    "colab": {
     "base_uri": "https://localhost:8080/"
    },
    "id": "L3KIJfuKX1g6",
    "outputId": "420fa185-07f5-43fb-9c87-81c130e7527c"
   },
   "outputs": [
    {
     "data": {
      "text/plain": [
       "array([[10.39419575,  0.80911714],\n",
       "       [ 0.80911714,  2.18978722]])"
      ]
     },
     "execution_count": 21,
     "metadata": {},
     "output_type": "execute_result"
    }
   ],
   "source": [
    "Wx"
   ]
  },
  {
   "cell_type": "code",
   "execution_count": 22,
   "metadata": {
    "id": "GhqJHFYvX8Bi"
   },
   "outputs": [],
   "source": [
    "nc = N_pred - 1\n",
    "\n",
    "Wc = R + B.T @ Wx @ B\n",
    "for i in range(nc-1):\n",
    "    Wc = scipy.linalg.block_diag(Wc, R + B.T @ Wx @ B)\n",
    "\n",
    "\n",
    "\n",
    "# temp = scipy.linalg.block_diag(Wx,Wx)"
   ]
  },
  {
   "cell_type": "code",
   "execution_count": 23,
   "metadata": {
    "colab": {
     "base_uri": "https://localhost:8080/"
    },
    "id": "1Ry9gDwnZU1I",
    "outputId": "75933b0e-be51-4f25-d8ac-7cad778f5aa4"
   },
   "outputs": [
    {
     "data": {
      "text/plain": [
       "array([[15.20221724,  0.        ,  0.        ,  0.        ,  0.        ],\n",
       "       [ 0.        , 15.20221724,  0.        ,  0.        ,  0.        ],\n",
       "       [ 0.        ,  0.        , 15.20221724,  0.        ,  0.        ],\n",
       "       [ 0.        ,  0.        ,  0.        , 15.20221724,  0.        ],\n",
       "       [ 0.        ,  0.        ,  0.        ,  0.        , 15.20221724]])"
      ]
     },
     "execution_count": 23,
     "metadata": {},
     "output_type": "execute_result"
    }
   ],
   "source": [
    "Wc"
   ]
  },
  {
   "cell_type": "code",
   "execution_count": 24,
   "metadata": {
    "colab": {
     "base_uri": "https://localhost:8080/"
    },
    "id": "u6sSjatQ-i9D",
    "outputId": "1f34ac27-a7d6-450d-c8e1-77a28cecc096"
   },
   "outputs": [
    {
     "data": {
      "text/plain": [
       "SX([a_0, a_1, b_0, b_1])"
      ]
     },
     "execution_count": 24,
     "metadata": {},
     "output_type": "execute_result"
    }
   ],
   "source": [
    "a = ca.SX.sym(\"a\",2)\n",
    "b = ca.SX.sym(\"b\",2)\n",
    "ca.vertcat(a,b)"
   ]
  },
  {
   "cell_type": "code",
   "execution_count": 25,
   "metadata": {
    "id": "2mEOOjsGZ_iB"
   },
   "outputs": [],
   "source": [
    "# Not necesssary to solve the Lyapunov eq."
   ]
  },
  {
   "cell_type": "code",
   "execution_count": 26,
   "metadata": {
    "colab": {
     "base_uri": "https://localhost:8080/"
    },
    "id": "3sKLbiwzAys9",
    "outputId": "7fc5d3da-07ae-4240-84bb-48bfa3aed598"
   },
   "outputs": [
    {
     "data": {
      "text/plain": [
       "(1, 7)"
      ]
     },
     "execution_count": 26,
     "metadata": {},
     "output_type": "execute_result"
    }
   ],
   "source": [
    "np.shape(F_bar @ np.linalg.matrix_power(Psi, i))"
   ]
  },
  {
   "cell_type": "code",
   "execution_count": 27,
   "metadata": {
    "id": "ZJemTjZlBJu2"
   },
   "outputs": [],
   "source": [
    "# ca.vertcat( x0_para, ck_var)"
   ]
  },
  {
   "cell_type": "code",
   "execution_count": 28,
   "metadata": {
    "colab": {
     "base_uri": "https://localhost:8080/"
    },
    "id": "Tc-Mi3wzBezn",
    "outputId": "87b02a19-0f13-4829-8487-60e1f69d2b51"
   },
   "outputs": [
    {
     "data": {
      "text/plain": [
       "(7, 7)"
      ]
     },
     "execution_count": 28,
     "metadata": {},
     "output_type": "execute_result"
    }
   ],
   "source": [
    "Psi.shape"
   ]
  },
  {
   "cell_type": "code",
   "execution_count": null,
   "metadata": {
    "id": "1kgo2m4YBev3"
   },
   "outputs": [],
   "source": []
  },
  {
   "cell_type": "code",
   "execution_count": 29,
   "metadata": {
    "id": "qgFQRGa6xnVs"
   },
   "outputs": [],
   "source": [
    "x0 = np.array([[-5],[60]])\n",
    "\n",
    "\n",
    "v = 5 # i_max\n",
    "\n",
    "\n",
    "# u_ub = [1]\n",
    "# u_nom_ub = [u_ub-Z_proj_max]\n",
    "\n",
    "# u_lb = [-1]\n",
    "# u_nom_lb = [-1-Z_proj_min]\n",
    "\n",
    "# x_ub = [ca.inf, 2]\n",
    "# x_lb = [-ca.inf, -ca.inf]\n",
    "\n",
    "# x_nom_ub = [ca.inf, 2 - Z.V[:,1].max()]\n",
    "# x_nom_lb = [-ca.inf, -ca.inf]\n",
    "\n",
    "# xi_var = ca.SX.sym('x', nx, N_pred)\n",
    "x0_para = ca.SX.sym('x0', nx, 1)\n",
    "ck_var = ca.SX.sym('ck', N_pred - 1,nu)\n",
    "\n",
    "obj = 0\n",
    "g = []\n",
    "for i in range(v):\n",
    "    g += [F_bar @ np.linalg.matrix_power(Psi, i) @ ca.vertcat( x0_para, ck_var) ]\n",
    "\n",
    "# obj += x0_para.T @ Wx @ x0_para + ck_var.T @ Wc @ ck_var\n",
    "obj += ck_var.T @ Wc @ ck_var\n",
    "# g += [xi_var[:, -1] - (A_para @ xi_var[:, -2] + B_para @ ui_var[:,  -1])] # Terminal state\n",
    "\n",
    "\n",
    "dec_list = [ca.reshape(ck_var, -1, 1)]\n",
    "para_list = [x0_para]\n",
    "\n",
    "nlp_prob = {\n",
    "    'f': obj,\n",
    "    'x': ca.vertcat(*dec_list),\n",
    "    'g': ca.vertcat(*g),\n",
    "    'p': ca.vertcat(*para_list)\n",
    "}\n",
    "\n",
    "solver_opt = {}\n",
    "solver_opt['print_time'] = False\n",
    "solver_opt['ipopt'] = {\n",
    "    'max_iter': 300,\n",
    "    'print_level': 1,\n",
    "    'acceptable_tol': 1e-6,\n",
    "    'acceptable_obj_change_tol': 1e-6}\n",
    "\n",
    "solver = ca.nlpsol(\"solver\", \"ipopt\", nlp_prob, solver_opt)"
   ]
  },
  {
   "cell_type": "code",
   "execution_count": null,
   "metadata": {
    "id": "6n6iLbWNACos"
   },
   "outputs": [],
   "source": [
    "N_sim = 20\n",
    "\n",
    "nl = {}\n",
    "\n",
    "\n",
    "\n",
    "lbg = []\n",
    "ubg = []\n",
    "\n",
    "one_vec = np.ones([np.shape(F_bar)[0],1])\n",
    "for i in range(v):\n",
    "    ubg += [one_vec - beta_list[i]]\n",
    "\n",
    "lbg = [-ca.inf] * v\n",
    "\n",
    "nl['lbg'] = lbg\n",
    "nl['ubg'] = ubg"
   ]
  },
  {
   "cell_type": "code",
   "execution_count": 40,
   "metadata": {
    "id": "6n6iLbWNACos"
   },
   "outputs": [],
   "source": [
    "N_loop = 30\n",
    "\n",
    "x_diff_traj_list = []\n",
    "for i in range(N_loop):\n",
    "\n",
    "    x0 = np.array([[-5],[60]])\n",
    "    x_traj_list = []\n",
    "    x_traj_list += [x0]\n",
    "    xk = x0\n",
    "\n",
    "    for i in range(N_sim):  \n",
    "        nl['p'] = xk\n",
    "        sol = solver(**nl)\n",
    "        ck = sol['x'][0].full()\n",
    "        # x0_sol = sol['x'][:nx].full()\n",
    "        uk = ck + K @ xk\n",
    "        wk = dis1.sample(2).reshape(-1,1)\n",
    "        xk_next = A @ xk + B @ uk + D @ wk\n",
    "        x_traj_list += [xk_next]\n",
    "\n",
    "        xk = xk_next\n",
    "        \n",
    "        \n",
    "    x_diff_traj_list += [x_traj_list]"
   ]
  },
  {
   "cell_type": "code",
   "execution_count": 41,
   "metadata": {},
   "outputs": [
    {
     "data": {
      "image/png": "[encoded data removed]",
      "text/plain": [
       "<Figure size 432x288 with 1 Axes>"
      ]
     },
     "metadata": {
      "needs_background": "light"
     },
     "output_type": "display_data"
    }
   ],
   "source": [
    "fig1, ax1 = plt.subplots(num=1)\n",
    "\n",
    "plt.grid()\n",
    "plt.axis([-5, 2, -10, 60])\n",
    "\n",
    "# P_VT.plot(ax10, fill=False, edgecolor='r', linewidth=2)\n",
    "\n",
    "constr_x1 = [-5, 1.71]\n",
    "constr_x2 = [39.338, -10]\n",
    "\n",
    "\n",
    "plt.plot(constr_x1, constr_x2)\n",
    "\n",
    "for i in range(N_loop):\n",
    "    x_traj_array = np.hstack(x_diff_traj_list[i])\n",
    "    ax1.plot(x_traj_array[0,:],x_traj_array[1,:])\n"
   ]
  }
 ],
 "metadata": {
  "colab": {
   "collapsed_sections": [],
   "name": "SMPC.ipynb",
   "provenance": []
  },
  "kernelspec": {
   "display_name": "Python 3 (ipykernel)",
   "language": "python",
   "name": "python3"
  },
  "language_info": {
   "codemirror_mode": {
    "name": "ipython",
    "version": 3
   },
   "file_extension": ".py",
   "mimetype": "text/x-python",
   "name": "python",
   "nbconvert_exporter": "python",
   "pygments_lexer": "ipython3",
   "version": "3.7.11"
  }
 },
 "nbformat": 4,
 "nbformat_minor": 1
}
